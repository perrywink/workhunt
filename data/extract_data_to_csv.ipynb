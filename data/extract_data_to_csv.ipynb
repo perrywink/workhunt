{
 "cells": [
  {
   "cell_type": "markdown",
   "id": "6e13b0a6",
   "metadata": {},
   "source": [
    "This notebook contains the code to process the data within the data directory into a csv file to make it easier for us to read it as a DB."
   ]
  },
  {
   "cell_type": "code",
   "execution_count": 3,
   "id": "b900e548",
   "metadata": {},
   "outputs": [],
   "source": [
    "# import libs\n",
    "from sklearn.datasets import load_files\n",
    "import pandas as pd\n",
    "import re"
   ]
  },
  {
   "cell_type": "code",
   "execution_count": 4,
   "id": "2dddecf0",
   "metadata": {},
   "outputs": [],
   "source": [
    "# Reading in the raw fields using regex\n",
    "jobs_data = load_files(r\"data\")\n",
    "\n",
    "webidx_pattern = r'Webindex: (\\d+)'\n",
    "title_pattern = r'Title: (.+)'\n",
    "desc_pattern = r'Description: (.+)'\n",
    "company_pattern = r'Company: (.+)'\n",
    "\n",
    "def extractField(data, pattern):\n",
    "    if (len(re.findall(pattern, data)) > 0):\n",
    "        return re.findall(pattern, data)[0]\n",
    "    else:\n",
    "        return \"\"\n",
    "\n",
    "# decode convert the bytes-like object to python string\n",
    "job_webidxs, job_titles, job_descs, job_company, category = \\\n",
    "    [extractField(d.decode('utf-8'), webidx_pattern) for d in jobs_data.data],\\\n",
    "    [extractField(d.decode('utf-8'), title_pattern) for d in jobs_data.data],\\\n",
    "    [extractField(d.decode('utf-8'), desc_pattern) for d in jobs_data.data],\\\n",
    "    [extractField(d.decode('utf-8'), company_pattern) for d in jobs_data.data],\\\n",
    "    jobs_data.target\n",
    "\n",
    "df_dict = {\n",
    "    \"web_idx\": job_webidxs,\n",
    "    \"title\": job_titles,\n",
    "    \"description\": job_descs,\n",
    "    \"company\": job_company,\n",
    "    \"category\": [jobs_data.target_names[i] for i in category],\n",
    "}\n",
    "\n",
    "df = pd.DataFrame(df_dict)"
   ]
  },
  {
   "cell_type": "code",
   "execution_count": 5,
   "id": "a25b9485",
   "metadata": {},
   "outputs": [],
   "source": [
    "df.to_csv(\"data.csv\",index=False)"
   ]
  }
 ],
 "metadata": {
  "kernelspec": {
   "display_name": "Python 3",
   "language": "python",
   "name": "python3"
  },
  "language_info": {
   "codemirror_mode": {
    "name": "ipython",
    "version": 3
   },
   "file_extension": ".py",
   "mimetype": "text/x-python",
   "name": "python",
   "nbconvert_exporter": "python",
   "pygments_lexer": "ipython3",
   "version": "3.8.8"
  }
 },
 "nbformat": 4,
 "nbformat_minor": 5
}
